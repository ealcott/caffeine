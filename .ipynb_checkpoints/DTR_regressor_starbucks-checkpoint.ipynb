{
 "cells": [
  {
   "cell_type": "code",
   "execution_count": 27,
   "id": "4cfadcc7",
   "metadata": {},
   "outputs": [],
   "source": [
    "import pandas as pd\n",
    "starbucks = pd.read_csv(\"starbucks_cleaned.csv\")"
   ]
  },
  {
   "cell_type": "code",
   "execution_count": 28,
   "id": "2107c332",
   "metadata": {},
   "outputs": [
    {
     "data": {
      "text/html": [
       "<div>\n",
       "<style scoped>\n",
       "    .dataframe tbody tr th:only-of-type {\n",
       "        vertical-align: middle;\n",
       "    }\n",
       "\n",
       "    .dataframe tbody tr th {\n",
       "        vertical-align: top;\n",
       "    }\n",
       "\n",
       "    .dataframe thead th {\n",
       "        text-align: right;\n",
       "    }\n",
       "</style>\n",
       "<table border=\"1\" class=\"dataframe\">\n",
       "  <thead>\n",
       "    <tr style=\"text-align: right;\">\n",
       "      <th></th>\n",
       "      <th>Unnamed: 0</th>\n",
       "      <th>Beverage_category</th>\n",
       "      <th>Beverage</th>\n",
       "      <th>Beverage_prep</th>\n",
       "      <th>Calories</th>\n",
       "      <th>Total Fat (g)</th>\n",
       "      <th>Trans Fat (g)</th>\n",
       "      <th>Saturated Fat (g)</th>\n",
       "      <th>Sodium (mg)</th>\n",
       "      <th>Total Carbohydrates (g)</th>\n",
       "      <th>...</th>\n",
       "      <th>Dietary Fibre (g)</th>\n",
       "      <th>Sugars (g)</th>\n",
       "      <th>Protein (g)</th>\n",
       "      <th>Vitamin A (% DV)</th>\n",
       "      <th>Vitamin C (% DV)</th>\n",
       "      <th>Calcium (% DV)</th>\n",
       "      <th>Iron (% DV)</th>\n",
       "      <th>Caffeine (mg)</th>\n",
       "      <th>Size</th>\n",
       "      <th>Prepped Beverages</th>\n",
       "    </tr>\n",
       "  </thead>\n",
       "  <tbody>\n",
       "    <tr>\n",
       "      <th>0</th>\n",
       "      <td>0</td>\n",
       "      <td>Coffee</td>\n",
       "      <td>Brewed Coffee</td>\n",
       "      <td>Short</td>\n",
       "      <td>3</td>\n",
       "      <td>0.1</td>\n",
       "      <td>0.0</td>\n",
       "      <td>0.0</td>\n",
       "      <td>0</td>\n",
       "      <td>5</td>\n",
       "      <td>...</td>\n",
       "      <td>0</td>\n",
       "      <td>0</td>\n",
       "      <td>0.3</td>\n",
       "      <td>0.0</td>\n",
       "      <td>0.0</td>\n",
       "      <td>0.00</td>\n",
       "      <td>0.0</td>\n",
       "      <td>175</td>\n",
       "      <td>Short</td>\n",
       "      <td>Brewed Coffee</td>\n",
       "    </tr>\n",
       "    <tr>\n",
       "      <th>1</th>\n",
       "      <td>1</td>\n",
       "      <td>Coffee</td>\n",
       "      <td>Brewed Coffee</td>\n",
       "      <td>Tall</td>\n",
       "      <td>4</td>\n",
       "      <td>0.1</td>\n",
       "      <td>0.0</td>\n",
       "      <td>0.0</td>\n",
       "      <td>0</td>\n",
       "      <td>10</td>\n",
       "      <td>...</td>\n",
       "      <td>0</td>\n",
       "      <td>0</td>\n",
       "      <td>0.5</td>\n",
       "      <td>0.0</td>\n",
       "      <td>0.0</td>\n",
       "      <td>0.00</td>\n",
       "      <td>0.0</td>\n",
       "      <td>260</td>\n",
       "      <td>Tall</td>\n",
       "      <td>Brewed Coffee</td>\n",
       "    </tr>\n",
       "    <tr>\n",
       "      <th>2</th>\n",
       "      <td>2</td>\n",
       "      <td>Coffee</td>\n",
       "      <td>Brewed Coffee</td>\n",
       "      <td>Grande</td>\n",
       "      <td>5</td>\n",
       "      <td>0.1</td>\n",
       "      <td>0.0</td>\n",
       "      <td>0.0</td>\n",
       "      <td>0</td>\n",
       "      <td>10</td>\n",
       "      <td>...</td>\n",
       "      <td>0</td>\n",
       "      <td>0</td>\n",
       "      <td>1.0</td>\n",
       "      <td>0.0</td>\n",
       "      <td>0.0</td>\n",
       "      <td>0.00</td>\n",
       "      <td>0.0</td>\n",
       "      <td>330</td>\n",
       "      <td>Grande</td>\n",
       "      <td>Brewed Coffee</td>\n",
       "    </tr>\n",
       "    <tr>\n",
       "      <th>3</th>\n",
       "      <td>3</td>\n",
       "      <td>Coffee</td>\n",
       "      <td>Brewed Coffee</td>\n",
       "      <td>Venti</td>\n",
       "      <td>5</td>\n",
       "      <td>0.1</td>\n",
       "      <td>0.0</td>\n",
       "      <td>0.0</td>\n",
       "      <td>0</td>\n",
       "      <td>10</td>\n",
       "      <td>...</td>\n",
       "      <td>0</td>\n",
       "      <td>0</td>\n",
       "      <td>1.0</td>\n",
       "      <td>0.0</td>\n",
       "      <td>0.0</td>\n",
       "      <td>0.02</td>\n",
       "      <td>0.0</td>\n",
       "      <td>410</td>\n",
       "      <td>Venti</td>\n",
       "      <td>Brewed Coffee</td>\n",
       "    </tr>\n",
       "    <tr>\n",
       "      <th>4</th>\n",
       "      <td>4</td>\n",
       "      <td>Classic Espresso Drinks</td>\n",
       "      <td>Caffè Latte</td>\n",
       "      <td>Short Nonfat Milk</td>\n",
       "      <td>70</td>\n",
       "      <td>0.1</td>\n",
       "      <td>0.1</td>\n",
       "      <td>0.0</td>\n",
       "      <td>5</td>\n",
       "      <td>75</td>\n",
       "      <td>...</td>\n",
       "      <td>0</td>\n",
       "      <td>9</td>\n",
       "      <td>6.0</td>\n",
       "      <td>0.1</td>\n",
       "      <td>0.0</td>\n",
       "      <td>0.20</td>\n",
       "      <td>0.0</td>\n",
       "      <td>75</td>\n",
       "      <td>Short</td>\n",
       "      <td>Caffè Latte, Nonfat Milk</td>\n",
       "    </tr>\n",
       "  </tbody>\n",
       "</table>\n",
       "<p>5 rows × 21 columns</p>\n",
       "</div>"
      ],
      "text/plain": [
       "   Unnamed: 0        Beverage_category       Beverage      Beverage_prep  \\\n",
       "0           0                   Coffee  Brewed Coffee              Short   \n",
       "1           1                   Coffee  Brewed Coffee               Tall   \n",
       "2           2                   Coffee  Brewed Coffee             Grande   \n",
       "3           3                   Coffee  Brewed Coffee              Venti   \n",
       "4           4  Classic Espresso Drinks    Caffè Latte  Short Nonfat Milk   \n",
       "\n",
       "   Calories   Total Fat (g)  Trans Fat (g)   Saturated Fat (g)   Sodium (mg)  \\\n",
       "0         3             0.1             0.0                0.0             0   \n",
       "1         4             0.1             0.0                0.0             0   \n",
       "2         5             0.1             0.0                0.0             0   \n",
       "3         5             0.1             0.0                0.0             0   \n",
       "4        70             0.1             0.1                0.0             5   \n",
       "\n",
       "    Total Carbohydrates (g)   ...   Dietary Fibre (g)   Sugars (g)  \\\n",
       "0                          5  ...                   0            0   \n",
       "1                         10  ...                   0            0   \n",
       "2                         10  ...                   0            0   \n",
       "3                         10  ...                   0            0   \n",
       "4                         75  ...                   0            9   \n",
       "\n",
       "    Protein (g)   Vitamin A (% DV)   Vitamin C (% DV)   Calcium (% DV)   \\\n",
       "0            0.3                0.0               0.0              0.00   \n",
       "1            0.5                0.0               0.0              0.00   \n",
       "2            1.0                0.0               0.0              0.00   \n",
       "3            1.0                0.0               0.0              0.02   \n",
       "4            6.0                0.1               0.0              0.20   \n",
       "\n",
       "   Iron (% DV)   Caffeine (mg)    Size         Prepped Beverages  \n",
       "0           0.0            175   Short             Brewed Coffee  \n",
       "1           0.0            260    Tall             Brewed Coffee  \n",
       "2           0.0            330  Grande             Brewed Coffee  \n",
       "3           0.0            410   Venti             Brewed Coffee  \n",
       "4           0.0             75   Short  Caffè Latte, Nonfat Milk  \n",
       "\n",
       "[5 rows x 21 columns]"
      ]
     },
     "execution_count": 28,
     "metadata": {},
     "output_type": "execute_result"
    }
   ],
   "source": [
    "starbucks.head()"
   ]
  },
  {
   "cell_type": "code",
   "execution_count": 29,
   "id": "8aa63781",
   "metadata": {},
   "outputs": [],
   "source": [
    "starbucks.drop([\"Unnamed: 0\", \"Beverage_prep\"], axis=1, inplace=True)"
   ]
  },
  {
   "cell_type": "code",
   "execution_count": 30,
   "id": "7342f5f7",
   "metadata": {},
   "outputs": [],
   "source": [
    "def enumerate_(column_name):\n",
    "    string_name = \"New_\" + column_name\n",
    "    starbucks[string_name] = starbucks[column_name].replace(\n",
    "        starbucks[column_name].unique().tolist(), \n",
    "        np.arange(0, len(starbucks[column_name].unique()), 1).tolist()\n",
    "    )"
   ]
  },
  {
   "cell_type": "code",
   "execution_count": 32,
   "id": "3a3c43cd",
   "metadata": {},
   "outputs": [
    {
     "data": {
      "text/html": [
       "<div>\n",
       "<style scoped>\n",
       "    .dataframe tbody tr th:only-of-type {\n",
       "        vertical-align: middle;\n",
       "    }\n",
       "\n",
       "    .dataframe tbody tr th {\n",
       "        vertical-align: top;\n",
       "    }\n",
       "\n",
       "    .dataframe thead th {\n",
       "        text-align: right;\n",
       "    }\n",
       "</style>\n",
       "<table border=\"1\" class=\"dataframe\">\n",
       "  <thead>\n",
       "    <tr style=\"text-align: right;\">\n",
       "      <th></th>\n",
       "      <th>Calories</th>\n",
       "      <th>Total Fat (g)</th>\n",
       "      <th>Trans Fat (g)</th>\n",
       "      <th>Saturated Fat (g)</th>\n",
       "      <th>Sodium (mg)</th>\n",
       "      <th>Total Carbohydrates (g)</th>\n",
       "      <th>Cholesterol (mg)</th>\n",
       "      <th>Dietary Fibre (g)</th>\n",
       "      <th>Sugars (g)</th>\n",
       "      <th>Protein (g)</th>\n",
       "      <th>Vitamin A (% DV)</th>\n",
       "      <th>Vitamin C (% DV)</th>\n",
       "      <th>Calcium (% DV)</th>\n",
       "      <th>Iron (% DV)</th>\n",
       "      <th>Caffeine (mg)</th>\n",
       "      <th>New_Beverage_category</th>\n",
       "      <th>New_Beverage</th>\n",
       "      <th>New_Size</th>\n",
       "      <th>New_Prepped Beverages</th>\n",
       "    </tr>\n",
       "  </thead>\n",
       "  <tbody>\n",
       "    <tr>\n",
       "      <th>0</th>\n",
       "      <td>3</td>\n",
       "      <td>0.1</td>\n",
       "      <td>0.0</td>\n",
       "      <td>0.0</td>\n",
       "      <td>0</td>\n",
       "      <td>5</td>\n",
       "      <td>0</td>\n",
       "      <td>0</td>\n",
       "      <td>0</td>\n",
       "      <td>0.3</td>\n",
       "      <td>0.0</td>\n",
       "      <td>0.0</td>\n",
       "      <td>0.00</td>\n",
       "      <td>0.0</td>\n",
       "      <td>175</td>\n",
       "      <td>0</td>\n",
       "      <td>0</td>\n",
       "      <td>0</td>\n",
       "      <td>0</td>\n",
       "    </tr>\n",
       "    <tr>\n",
       "      <th>1</th>\n",
       "      <td>4</td>\n",
       "      <td>0.1</td>\n",
       "      <td>0.0</td>\n",
       "      <td>0.0</td>\n",
       "      <td>0</td>\n",
       "      <td>10</td>\n",
       "      <td>0</td>\n",
       "      <td>0</td>\n",
       "      <td>0</td>\n",
       "      <td>0.5</td>\n",
       "      <td>0.0</td>\n",
       "      <td>0.0</td>\n",
       "      <td>0.00</td>\n",
       "      <td>0.0</td>\n",
       "      <td>260</td>\n",
       "      <td>0</td>\n",
       "      <td>0</td>\n",
       "      <td>1</td>\n",
       "      <td>0</td>\n",
       "    </tr>\n",
       "    <tr>\n",
       "      <th>2</th>\n",
       "      <td>5</td>\n",
       "      <td>0.1</td>\n",
       "      <td>0.0</td>\n",
       "      <td>0.0</td>\n",
       "      <td>0</td>\n",
       "      <td>10</td>\n",
       "      <td>0</td>\n",
       "      <td>0</td>\n",
       "      <td>0</td>\n",
       "      <td>1.0</td>\n",
       "      <td>0.0</td>\n",
       "      <td>0.0</td>\n",
       "      <td>0.00</td>\n",
       "      <td>0.0</td>\n",
       "      <td>330</td>\n",
       "      <td>0</td>\n",
       "      <td>0</td>\n",
       "      <td>2</td>\n",
       "      <td>0</td>\n",
       "    </tr>\n",
       "    <tr>\n",
       "      <th>3</th>\n",
       "      <td>5</td>\n",
       "      <td>0.1</td>\n",
       "      <td>0.0</td>\n",
       "      <td>0.0</td>\n",
       "      <td>0</td>\n",
       "      <td>10</td>\n",
       "      <td>0</td>\n",
       "      <td>0</td>\n",
       "      <td>0</td>\n",
       "      <td>1.0</td>\n",
       "      <td>0.0</td>\n",
       "      <td>0.0</td>\n",
       "      <td>0.02</td>\n",
       "      <td>0.0</td>\n",
       "      <td>410</td>\n",
       "      <td>0</td>\n",
       "      <td>0</td>\n",
       "      <td>3</td>\n",
       "      <td>0</td>\n",
       "    </tr>\n",
       "    <tr>\n",
       "      <th>4</th>\n",
       "      <td>70</td>\n",
       "      <td>0.1</td>\n",
       "      <td>0.1</td>\n",
       "      <td>0.0</td>\n",
       "      <td>5</td>\n",
       "      <td>75</td>\n",
       "      <td>10</td>\n",
       "      <td>0</td>\n",
       "      <td>9</td>\n",
       "      <td>6.0</td>\n",
       "      <td>0.1</td>\n",
       "      <td>0.0</td>\n",
       "      <td>0.20</td>\n",
       "      <td>0.0</td>\n",
       "      <td>75</td>\n",
       "      <td>1</td>\n",
       "      <td>1</td>\n",
       "      <td>0</td>\n",
       "      <td>1</td>\n",
       "    </tr>\n",
       "  </tbody>\n",
       "</table>\n",
       "</div>"
      ],
      "text/plain": [
       "   Calories   Total Fat (g)  Trans Fat (g)   Saturated Fat (g)   Sodium (mg)  \\\n",
       "0         3             0.1             0.0                0.0             0   \n",
       "1         4             0.1             0.0                0.0             0   \n",
       "2         5             0.1             0.0                0.0             0   \n",
       "3         5             0.1             0.0                0.0             0   \n",
       "4        70             0.1             0.1                0.0             5   \n",
       "\n",
       "    Total Carbohydrates (g)   Cholesterol (mg)   Dietary Fibre (g)  \\\n",
       "0                          5                 0                   0   \n",
       "1                         10                 0                   0   \n",
       "2                         10                 0                   0   \n",
       "3                         10                 0                   0   \n",
       "4                         75                10                   0   \n",
       "\n",
       "    Sugars (g)   Protein (g)   Vitamin A (% DV)   Vitamin C (% DV)  \\\n",
       "0            0            0.3                0.0               0.0   \n",
       "1            0            0.5                0.0               0.0   \n",
       "2            0            1.0                0.0               0.0   \n",
       "3            0            1.0                0.0               0.0   \n",
       "4            9            6.0                0.1               0.0   \n",
       "\n",
       "    Calcium (% DV)   Iron (% DV)   Caffeine (mg)  New_Beverage_category  \\\n",
       "0              0.00           0.0            175                      0   \n",
       "1              0.00           0.0            260                      0   \n",
       "2              0.00           0.0            330                      0   \n",
       "3              0.02           0.0            410                      0   \n",
       "4              0.20           0.0             75                      1   \n",
       "\n",
       "   New_Beverage  New_Size  New_Prepped Beverages  \n",
       "0             0         0                      0  \n",
       "1             0         1                      0  \n",
       "2             0         2                      0  \n",
       "3             0         3                      0  \n",
       "4             1         0                      1  "
      ]
     },
     "execution_count": 32,
     "metadata": {},
     "output_type": "execute_result"
    }
   ],
   "source": [
    "for i in [\"Beverage_category\", \"Beverage\", \"Size\", \"Prepped Beverages\"]:\n",
    "    enumerate_(i)\n",
    "    starbucks.drop(i, axis=1, inplace=True)\n",
    "starbucks.head()"
   ]
  },
  {
   "cell_type": "code",
   "execution_count": 16,
   "id": "36ba03ea",
   "metadata": {},
   "outputs": [],
   "source": []
  },
  {
   "cell_type": "code",
   "execution_count": 126,
   "id": "b0a48a2e",
   "metadata": {},
   "outputs": [],
   "source": [
    "from sklearn.tree import DecisionTreeRegressor\n",
    "from sklearn import metrics\n",
    "from sklearn.model_selection import train_test_split\n",
    "from sklearn.model_selection import GridSearchCV"
   ]
  },
  {
   "cell_type": "code",
   "execution_count": 36,
   "id": "3bd7f426",
   "metadata": {},
   "outputs": [],
   "source": [
    "X = starbucks.loc[:, :\"Iron (% DV) \"]\n",
    "X = X.join(starbucks.loc[:, \"New_Beverage_category\":])"
   ]
  },
  {
   "cell_type": "code",
   "execution_count": 37,
   "id": "ccc4f120",
   "metadata": {},
   "outputs": [
    {
     "name": "stdout",
     "output_type": "stream",
     "text": [
      "     Calories   Total Fat (g)  Trans Fat (g)   Saturated Fat (g)  \\\n",
      "0           3             0.1             0.0                0.0   \n",
      "1           4             0.1             0.0                0.0   \n",
      "2           5             0.1             0.0                0.0   \n",
      "3           5             0.1             0.0                0.0   \n",
      "4          70             0.1             0.1                0.0   \n",
      "..        ...             ...             ...                ...   \n",
      "214       320             3.2             0.4                0.0   \n",
      "215       170             0.1             0.1                0.0   \n",
      "216       200             3.5             2.0                0.1   \n",
      "217       180             1.5             0.2                0.0   \n",
      "218       240             0.1             0.1                0.0   \n",
      "\n",
      "      Sodium (mg)   Total Carbohydrates (g)   Cholesterol (mg)  \\\n",
      "0               0                          5                 0   \n",
      "1               0                         10                 0   \n",
      "2               0                         10                 0   \n",
      "3               0                         10                 0   \n",
      "4               5                         75                10   \n",
      "..            ...                        ...               ...   \n",
      "214             0                        250                67   \n",
      "215             0                        160                39   \n",
      "216            10                        160                39   \n",
      "217             0                        160                37   \n",
      "218             5                        230                56   \n",
      "\n",
      "      Dietary Fibre (g)   Sugars (g)   Protein (g)   Vitamin A (% DV)   \\\n",
      "0                     0            0            0.3               0.00   \n",
      "1                     0            0            0.5               0.00   \n",
      "2                     0            0            1.0               0.00   \n",
      "3                     0            0            1.0               0.00   \n",
      "4                     0            9            6.0               0.10   \n",
      "..                  ...          ...            ...                ...   \n",
      "214                   1           64            5.0               0.06   \n",
      "215                   0           38            4.0               0.06   \n",
      "216                   0           38            3.0               0.06   \n",
      "217                   1           35            3.0               0.04   \n",
      "218                   0           55            5.0               0.08   \n",
      "\n",
      "     Vitamin C (% DV)   Calcium (% DV)   Iron (% DV)   New_Beverage_category  \\\n",
      "0                0.00              0.00          0.00                      0   \n",
      "1                0.00              0.00          0.00                      0   \n",
      "2                0.00              0.00          0.00                      0   \n",
      "3                0.00              0.02          0.00                      0   \n",
      "4                0.00              0.20          0.00                      1   \n",
      "..                ...               ...           ...                    ...   \n",
      "214              0.08              0.20          0.10                      8   \n",
      "215              0.00              0.10          0.00                      8   \n",
      "216              0.00              0.10          0.00                      8   \n",
      "217              0.00              0.10          0.06                      8   \n",
      "218              0.00              0.15          0.00                      8   \n",
      "\n",
      "     New_Beverage  New_Size  New_Prepped Beverages  \n",
      "0               0         0                      0  \n",
      "1               0         1                      0  \n",
      "2               0         2                      0  \n",
      "3               0         3                      0  \n",
      "4               1         0                      1  \n",
      "..            ...       ...                    ...  \n",
      "214            28         3                     65  \n",
      "215            29         1                     66  \n",
      "216            29         1                     67  \n",
      "217            29         1                     68  \n",
      "218            29         2                     66  \n",
      "\n",
      "[219 rows x 18 columns]\n"
     ]
    }
   ],
   "source": [
    "print(X)"
   ]
  },
  {
   "cell_type": "code",
   "execution_count": 61,
   "id": "e8019512",
   "metadata": {},
   "outputs": [
    {
     "data": {
      "text/plain": [
       "219"
      ]
     },
     "execution_count": 61,
     "metadata": {},
     "output_type": "execute_result"
    }
   ],
   "source": [
    "y = starbucks.loc[:, \"Caffeine (mg)\"]"
   ]
  },
  {
   "cell_type": "code",
   "execution_count": 63,
   "id": "64356148",
   "metadata": {},
   "outputs": [],
   "source": [
    "X_train, X_test, y_train, y_test = train_test_split(X, y, test_size = 0.3)"
   ]
  },
  {
   "cell_type": "code",
   "execution_count": 153,
   "id": "27cdcc79",
   "metadata": {},
   "outputs": [
    {
     "name": "stdout",
     "output_type": "stream",
     "text": [
      "Tuned Hyperparameters : {'criterion': 'friedman_mse', 'max_features': 'sqrt', 'min_samples_leaf': 1, 'splitter': 'best'}\n"
     ]
    }
   ],
   "source": [
    "import warnings\n",
    "warnings.filterwarnings('ignore')\n",
    "parameters = {\n",
    "    \"criterion\" : [\"squared_error\", \"friedman_mse\", \"absolute_error\", \"poisson\"], #default sq\n",
    "    \"splitter\" : [\"best\", \"random\"], #default best\n",
    "    \"min_samples_leaf\"  : [1, 2, 3, 4], #default 1\n",
    "    \"max_features\" : [\"auto\", \"sqrt\", \"log2\", None] #default None\n",
    "}\n",
    "clf = GridSearchCV(DecisionTreeRegressor(),                    \n",
    "                   param_grid = parameters,          \n",
    "                   cv=5)   \n",
    "\n",
    "clf.fit(X_train,y_train)\n",
    "print(\"Tuned Hyperparameters :\", clf.best_params_)"
   ]
  },
  {
   "cell_type": "code",
   "execution_count": 156,
   "id": "f58e2c91",
   "metadata": {},
   "outputs": [],
   "source": [
    "dtr = DecisionTreeRegressor(criterion = \"friedman_mse\", max_features=\"sqrt\")"
   ]
  },
  {
   "cell_type": "code",
   "execution_count": 166,
   "id": "9df86e5c",
   "metadata": {},
   "outputs": [
    {
     "data": {
      "text/html": [
       "<style>#sk-container-id-10 {color: black;background-color: white;}#sk-container-id-10 pre{padding: 0;}#sk-container-id-10 div.sk-toggleable {background-color: white;}#sk-container-id-10 label.sk-toggleable__label {cursor: pointer;display: block;width: 100%;margin-bottom: 0;padding: 0.3em;box-sizing: border-box;text-align: center;}#sk-container-id-10 label.sk-toggleable__label-arrow:before {content: \"▸\";float: left;margin-right: 0.25em;color: #696969;}#sk-container-id-10 label.sk-toggleable__label-arrow:hover:before {color: black;}#sk-container-id-10 div.sk-estimator:hover label.sk-toggleable__label-arrow:before {color: black;}#sk-container-id-10 div.sk-toggleable__content {max-height: 0;max-width: 0;overflow: hidden;text-align: left;background-color: #f0f8ff;}#sk-container-id-10 div.sk-toggleable__content pre {margin: 0.2em;color: black;border-radius: 0.25em;background-color: #f0f8ff;}#sk-container-id-10 input.sk-toggleable__control:checked~div.sk-toggleable__content {max-height: 200px;max-width: 100%;overflow: auto;}#sk-container-id-10 input.sk-toggleable__control:checked~label.sk-toggleable__label-arrow:before {content: \"▾\";}#sk-container-id-10 div.sk-estimator input.sk-toggleable__control:checked~label.sk-toggleable__label {background-color: #d4ebff;}#sk-container-id-10 div.sk-label input.sk-toggleable__control:checked~label.sk-toggleable__label {background-color: #d4ebff;}#sk-container-id-10 input.sk-hidden--visually {border: 0;clip: rect(1px 1px 1px 1px);clip: rect(1px, 1px, 1px, 1px);height: 1px;margin: -1px;overflow: hidden;padding: 0;position: absolute;width: 1px;}#sk-container-id-10 div.sk-estimator {font-family: monospace;background-color: #f0f8ff;border: 1px dotted black;border-radius: 0.25em;box-sizing: border-box;margin-bottom: 0.5em;}#sk-container-id-10 div.sk-estimator:hover {background-color: #d4ebff;}#sk-container-id-10 div.sk-parallel-item::after {content: \"\";width: 100%;border-bottom: 1px solid gray;flex-grow: 1;}#sk-container-id-10 div.sk-label:hover label.sk-toggleable__label {background-color: #d4ebff;}#sk-container-id-10 div.sk-serial::before {content: \"\";position: absolute;border-left: 1px solid gray;box-sizing: border-box;top: 0;bottom: 0;left: 50%;z-index: 0;}#sk-container-id-10 div.sk-serial {display: flex;flex-direction: column;align-items: center;background-color: white;padding-right: 0.2em;padding-left: 0.2em;position: relative;}#sk-container-id-10 div.sk-item {position: relative;z-index: 1;}#sk-container-id-10 div.sk-parallel {display: flex;align-items: stretch;justify-content: center;background-color: white;position: relative;}#sk-container-id-10 div.sk-item::before, #sk-container-id-10 div.sk-parallel-item::before {content: \"\";position: absolute;border-left: 1px solid gray;box-sizing: border-box;top: 0;bottom: 0;left: 50%;z-index: -1;}#sk-container-id-10 div.sk-parallel-item {display: flex;flex-direction: column;z-index: 1;position: relative;background-color: white;}#sk-container-id-10 div.sk-parallel-item:first-child::after {align-self: flex-end;width: 50%;}#sk-container-id-10 div.sk-parallel-item:last-child::after {align-self: flex-start;width: 50%;}#sk-container-id-10 div.sk-parallel-item:only-child::after {width: 0;}#sk-container-id-10 div.sk-dashed-wrapped {border: 1px dashed gray;margin: 0 0.4em 0.5em 0.4em;box-sizing: border-box;padding-bottom: 0.4em;background-color: white;}#sk-container-id-10 div.sk-label label {font-family: monospace;font-weight: bold;display: inline-block;line-height: 1.2em;}#sk-container-id-10 div.sk-label-container {text-align: center;}#sk-container-id-10 div.sk-container {/* jupyter's `normalize.less` sets `[hidden] { display: none; }` but bootstrap.min.css set `[hidden] { display: none !important; }` so we also need the `!important` here to be able to override the default hidden behavior on the sphinx rendered scikit-learn.org. See: https://github.com/scikit-learn/scikit-learn/issues/21755 */display: inline-block !important;position: relative;}#sk-container-id-10 div.sk-text-repr-fallback {display: none;}</style><div id=\"sk-container-id-10\" class=\"sk-top-container\"><div class=\"sk-text-repr-fallback\"><pre>DecisionTreeRegressor(criterion=&#x27;friedman_mse&#x27;, max_features=&#x27;sqrt&#x27;)</pre><b>In a Jupyter environment, please rerun this cell to show the HTML representation or trust the notebook. <br />On GitHub, the HTML representation is unable to render, please try loading this page with nbviewer.org.</b></div><div class=\"sk-container\" hidden><div class=\"sk-item\"><div class=\"sk-estimator sk-toggleable\"><input class=\"sk-toggleable__control sk-hidden--visually\" id=\"sk-estimator-id-10\" type=\"checkbox\" checked><label for=\"sk-estimator-id-10\" class=\"sk-toggleable__label sk-toggleable__label-arrow\">DecisionTreeRegressor</label><div class=\"sk-toggleable__content\"><pre>DecisionTreeRegressor(criterion=&#x27;friedman_mse&#x27;, max_features=&#x27;sqrt&#x27;)</pre></div></div></div></div></div>"
      ],
      "text/plain": [
       "DecisionTreeRegressor(criterion='friedman_mse', max_features='sqrt')"
      ]
     },
     "execution_count": 166,
     "metadata": {},
     "output_type": "execute_result"
    }
   ],
   "source": [
    "dtr.fit(X_train, y_train)"
   ]
  },
  {
   "cell_type": "code",
   "execution_count": 167,
   "id": "b7ab8467",
   "metadata": {},
   "outputs": [],
   "source": [
    "predict = dtr.predict(X_test)"
   ]
  },
  {
   "cell_type": "code",
   "execution_count": 168,
   "id": "bb55296c",
   "metadata": {},
   "outputs": [
    {
     "data": {
      "text/plain": [
       "43.45844410050093"
      ]
     },
     "execution_count": 168,
     "metadata": {},
     "output_type": "execute_result"
    }
   ],
   "source": [
    "np.sqrt(metrics.mean_squared_error(y_test, predict))"
   ]
  },
  {
   "cell_type": "code",
   "execution_count": 169,
   "id": "ba81ebe0",
   "metadata": {},
   "outputs": [
    {
     "data": {
      "text/plain": [
       "<BarContainer object of 66 artists>"
      ]
     },
     "execution_count": 169,
     "metadata": {},
     "output_type": "execute_result"
    },
    {
     "data": {
      "image/png": "[encoded data removed]",
      "text/plain": [
       "<Figure size 640x480 with 1 Axes>"
      ]
     },
     "metadata": {},
     "output_type": "display_data"
    }
   ],
   "source": [
    "import matplotlib.pyplot as plt\n",
    "x = np.arange(0, len(predict), 1)\n",
    "plt.bar(x = x.tolist(), height = y_test, color=\"cornflowerblue\")\n",
    "plt.bar(x = x.tolist(), height = predict, color=\"darkred\")"
   ]
  },
  {
   "cell_type": "code",
   "execution_count": 170,
   "id": "7c81d8b2",
   "metadata": {},
   "outputs": [
    {
     "data": {
      "text/plain": [
       "<BarContainer object of 66 artists>"
      ]
     },
     "execution_count": 170,
     "metadata": {},
     "output_type": "execute_result"
    },
    {
     "data": {
      "image/png": "[encoded data removed]",
      "text/plain": [
       "<Figure size 640x480 with 1 Axes>"
      ]
     },
     "metadata": {},
     "output_type": "display_data"
    }
   ],
   "source": [
    "x = np.arange(0, len(predict), 1)\n",
    "plt.bar(x = x.tolist(), height = predict, color=\"darkred\")\n",
    "plt.bar(x = x.tolist(), height = y_test, color=\"cornflowerblue\")"
   ]
  },
  {
   "cell_type": "code",
   "execution_count": 171,
   "id": "1fb77a7a",
   "metadata": {},
   "outputs": [],
   "source": [
    "same = []\n",
    "xs = []\n",
    "for i in range(len(y_test)):\n",
    "    if np.array(y_test)[i] == predict[i]:\n",
    "        same.append(predict[i])\n",
    "        xs.append(i)"
   ]
  },
  {
   "cell_type": "code",
   "execution_count": 172,
   "id": "55912ab7",
   "metadata": {},
   "outputs": [
    {
     "data": {
      "image/png": "[encoded data removed]",
      "text/plain": [
       "<Figure size 640x480 with 1 Axes>"
      ]
     },
     "metadata": {},
     "output_type": "display_data"
    }
   ],
   "source": [
    "plt.bar(x = x.tolist(), height = y_test, color = \"gainsboro\")\n",
    "plt.bar(x = x.tolist(), height = predict, color=\"gainsboro\")\n",
    "plt.bar(x = xs, height = same, color = \"g\")\n",
    "plt.show()"
   ]
  },
  {
   "cell_type": "code",
   "execution_count": 174,
   "id": "9f5cc2cc",
   "metadata": {},
   "outputs": [
    {
     "data": {
      "text/plain": [
       "array([9.09910175e-03, 3.96541074e-02, 2.64261849e-05, 0.00000000e+00,\n",
       "       4.95490967e-04, 3.82422902e-02, 1.65453400e-02, 2.11409479e-04,\n",
       "       1.17898772e-02, 5.03829373e-02, 5.47079363e-02, 4.18493516e-02,\n",
       "       7.87877828e-03, 4.01280892e-03, 2.01611025e-01, 2.84885813e-01,\n",
       "       3.22310034e-02, 2.06376303e-01])"
      ]
     },
     "execution_count": 174,
     "metadata": {},
     "output_type": "execute_result"
    }
   ],
   "source": [
    "dtr.feature_importances_"
   ]
  },
  {
   "cell_type": "code",
   "execution_count": 176,
   "id": "b7a16554",
   "metadata": {},
   "outputs": [
    {
     "data": {
      "image/png": "[encoded data removed]",
      "text/plain": [
       "<Figure size 1000x600 with 1 Axes>"
      ]
     },
     "metadata": {},
     "output_type": "display_data"
    }
   ],
   "source": [
    "import seaborn as sns\n",
    "sns.set_style(\"darkgrid\")\n",
    "importances = dtr.feature_importances_\n",
    "# [::-1] puts the sorted list in reverse order\n",
    "# importances is the measured importance, features is the features\n",
    "left_sorted_importances = importances[importances.argsort()[::-1]]\n",
    "left_sorted_features = X_train.columns[importances.argsort()[::-1]]\n",
    "\n",
    "plt.figure(figsize=(10, 6))\n",
    "plt.bar(left_sorted_features, left_sorted_importances, color=\"green\")\n",
    "plt.xticks(rotation=90)\n",
    "plt.xlabel('Nutrition Features')\n",
    "plt.ylabel('Importance in Model')\n",
    "plt.title('Importance of Nutrition Features in Caffeine DT Regression Model')\n",
    "plt.show()"
   ]
  },
  {
   "cell_type": "code",
   "execution_count": null,
   "id": "ca8d13b6",
   "metadata": {},
   "outputs": [],
   "source": []
  }
 ],
 "metadata": {
  "kernelspec": {
   "display_name": "Python 3 (ipykernel)",
   "language": "python",
   "name": "python3"
  },
  "language_info": {
   "codemirror_mode": {
    "name": "ipython",
    "version": 3
   },
   "file_extension": ".py",
   "mimetype": "text/x-python",
   "name": "python",
   "nbconvert_exporter": "python",
   "pygments_lexer": "ipython3",
   "version": "3.10.6"
  }
 },
 "nbformat": 4,
 "nbformat_minor": 5
}
